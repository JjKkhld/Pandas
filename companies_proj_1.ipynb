{
  "nbformat": 4,
  "nbformat_minor": 0,
  "metadata": {
    "colab": {
      "provenance": [],
      "collapsed_sections": [
        "pNVPoUa6Radp",
        "9CiWF7WABy5N",
        "jIE6Y4Mkk1zj",
        "FlaUrlk7XriH",
        "nuG0MoG5fNUE"
      ],
      "mount_file_id": "1KuMVrWPKDz6xmUesTBsawwG36U4apYpe",
      "authorship_tag": "ABX9TyPQh4tLcdXZgQ5wb55NVHwj",
      "include_colab_link": true
    },
    "kernelspec": {
      "name": "python3",
      "display_name": "Python 3"
    },
    "language_info": {
      "name": "python"
    }
  },
  "cells": [
    {
      "cell_type": "markdown",
      "metadata": {
        "id": "view-in-github",
        "colab_type": "text"
      },
      "source": [
        "<a href=\"https://colab.research.google.com/github/JjKkhld/Pandas/blob/main/companies_proj_1.ipynb\" target=\"_parent\"><img src=\"https://colab.research.google.com/assets/colab-badge.svg\" alt=\"Open In Colab\"/></a>"
      ]
    },
    {
      "cell_type": "markdown",
      "source": [
        "#1. Librares and data import"
      ],
      "metadata": {
        "id": "pNVPoUa6Radp"
      }
    },
    {
      "cell_type": "code",
      "execution_count": null,
      "metadata": {
        "id": "JxewzkDl0vxE",
        "colab": {
          "base_uri": "https://localhost:8080/",
          "height": 379
        },
        "outputId": "871c912c-2826-4e7d-d88e-056422d3d54c"
      },
      "outputs": [
        {
          "output_type": "execute_result",
          "data": {
            "text/plain": [
              "  Company_name                                        Description  Ratings  \\\n",
              "0          TCS  IT Services & Consulting | 1 Lakh+ Employees |...      3.8   \n",
              "1    Accenture  IT Services & Consulting | 1 Lakh+ Employees |...      4.0   \n",
              "2    Cognizant  IT Services & Consulting | 1 Lakh+ Employees |...      3.9   \n",
              "3        Wipro  IT Services & Consulting | 1 Lakh+ Employees |...      3.8   \n",
              "4    Capgemini  IT Services & Consulting | 1 Lakh+ Employees |...      3.9   \n",
              "\n",
              "                                    Highly_rated_for  \\\n",
              "0                    Job Security, Work Life Balance   \n",
              "1  Company Culture, Skill Development / Learning,...   \n",
              "2                       Skill Development / Learning   \n",
              "3                                       Job Security   \n",
              "4  Job Security, Work Life Balance, Skill Develop...   \n",
              "\n",
              "                        Critically_rated_for Total_reviews Avg_salary  \\\n",
              "0  Promotions / Appraisal, Salary & Benefits         73.1k     856.9k   \n",
              "1                                        NaN         46.4k     584.6k   \n",
              "2                     Promotions / Appraisal         41.7k     561.5k   \n",
              "3  Promotions / Appraisal, Salary & Benefits         39.2k     427.4k   \n",
              "4  Promotions / Appraisal, Salary & Benefits           34k     414.4k   \n",
              "\n",
              "  Interviews_taken Total_jobs_available Total_benefits  \n",
              "0             6.1k                  847          11.5k  \n",
              "1             4.3k                 9.9k           7.1k  \n",
              "2             3.6k                  460           5.8k  \n",
              "3             3.7k                  405             5k  \n",
              "4             2.8k                  719             4k  "
            ],
            "text/html": [
              "\n",
              "  <div id=\"df-66edfab0-1133-440c-8df1-e38306ebb2b8\" class=\"colab-df-container\">\n",
              "    <div>\n",
              "<style scoped>\n",
              "    .dataframe tbody tr th:only-of-type {\n",
              "        vertical-align: middle;\n",
              "    }\n",
              "\n",
              "    .dataframe tbody tr th {\n",
              "        vertical-align: top;\n",
              "    }\n",
              "\n",
              "    .dataframe thead th {\n",
              "        text-align: right;\n",
              "    }\n",
              "</style>\n",
              "<table border=\"1\" class=\"dataframe\">\n",
              "  <thead>\n",
              "    <tr style=\"text-align: right;\">\n",
              "      <th></th>\n",
              "      <th>Company_name</th>\n",
              "      <th>Description</th>\n",
              "      <th>Ratings</th>\n",
              "      <th>Highly_rated_for</th>\n",
              "      <th>Critically_rated_for</th>\n",
              "      <th>Total_reviews</th>\n",
              "      <th>Avg_salary</th>\n",
              "      <th>Interviews_taken</th>\n",
              "      <th>Total_jobs_available</th>\n",
              "      <th>Total_benefits</th>\n",
              "    </tr>\n",
              "  </thead>\n",
              "  <tbody>\n",
              "    <tr>\n",
              "      <th>0</th>\n",
              "      <td>TCS</td>\n",
              "      <td>IT Services &amp; Consulting | 1 Lakh+ Employees |...</td>\n",
              "      <td>3.8</td>\n",
              "      <td>Job Security, Work Life Balance</td>\n",
              "      <td>Promotions / Appraisal, Salary &amp; Benefits</td>\n",
              "      <td>73.1k</td>\n",
              "      <td>856.9k</td>\n",
              "      <td>6.1k</td>\n",
              "      <td>847</td>\n",
              "      <td>11.5k</td>\n",
              "    </tr>\n",
              "    <tr>\n",
              "      <th>1</th>\n",
              "      <td>Accenture</td>\n",
              "      <td>IT Services &amp; Consulting | 1 Lakh+ Employees |...</td>\n",
              "      <td>4.0</td>\n",
              "      <td>Company Culture, Skill Development / Learning,...</td>\n",
              "      <td>NaN</td>\n",
              "      <td>46.4k</td>\n",
              "      <td>584.6k</td>\n",
              "      <td>4.3k</td>\n",
              "      <td>9.9k</td>\n",
              "      <td>7.1k</td>\n",
              "    </tr>\n",
              "    <tr>\n",
              "      <th>2</th>\n",
              "      <td>Cognizant</td>\n",
              "      <td>IT Services &amp; Consulting | 1 Lakh+ Employees |...</td>\n",
              "      <td>3.9</td>\n",
              "      <td>Skill Development / Learning</td>\n",
              "      <td>Promotions / Appraisal</td>\n",
              "      <td>41.7k</td>\n",
              "      <td>561.5k</td>\n",
              "      <td>3.6k</td>\n",
              "      <td>460</td>\n",
              "      <td>5.8k</td>\n",
              "    </tr>\n",
              "    <tr>\n",
              "      <th>3</th>\n",
              "      <td>Wipro</td>\n",
              "      <td>IT Services &amp; Consulting | 1 Lakh+ Employees |...</td>\n",
              "      <td>3.8</td>\n",
              "      <td>Job Security</td>\n",
              "      <td>Promotions / Appraisal, Salary &amp; Benefits</td>\n",
              "      <td>39.2k</td>\n",
              "      <td>427.4k</td>\n",
              "      <td>3.7k</td>\n",
              "      <td>405</td>\n",
              "      <td>5k</td>\n",
              "    </tr>\n",
              "    <tr>\n",
              "      <th>4</th>\n",
              "      <td>Capgemini</td>\n",
              "      <td>IT Services &amp; Consulting | 1 Lakh+ Employees |...</td>\n",
              "      <td>3.9</td>\n",
              "      <td>Job Security, Work Life Balance, Skill Develop...</td>\n",
              "      <td>Promotions / Appraisal, Salary &amp; Benefits</td>\n",
              "      <td>34k</td>\n",
              "      <td>414.4k</td>\n",
              "      <td>2.8k</td>\n",
              "      <td>719</td>\n",
              "      <td>4k</td>\n",
              "    </tr>\n",
              "  </tbody>\n",
              "</table>\n",
              "</div>\n",
              "    <div class=\"colab-df-buttons\">\n",
              "\n",
              "  <div class=\"colab-df-container\">\n",
              "    <button class=\"colab-df-convert\" onclick=\"convertToInteractive('df-66edfab0-1133-440c-8df1-e38306ebb2b8')\"\n",
              "            title=\"Convert this dataframe to an interactive table.\"\n",
              "            style=\"display:none;\">\n",
              "\n",
              "  <svg xmlns=\"http://www.w3.org/2000/svg\" height=\"24px\" viewBox=\"0 -960 960 960\">\n",
              "    <path d=\"M120-120v-720h720v720H120Zm60-500h600v-160H180v160Zm220 220h160v-160H400v160Zm0 220h160v-160H400v160ZM180-400h160v-160H180v160Zm440 0h160v-160H620v160ZM180-180h160v-160H180v160Zm440 0h160v-160H620v160Z\"/>\n",
              "  </svg>\n",
              "    </button>\n",
              "\n",
              "  <style>\n",
              "    .colab-df-container {\n",
              "      display:flex;\n",
              "      gap: 12px;\n",
              "    }\n",
              "\n",
              "    .colab-df-convert {\n",
              "      background-color: #E8F0FE;\n",
              "      border: none;\n",
              "      border-radius: 50%;\n",
              "      cursor: pointer;\n",
              "      display: none;\n",
              "      fill: #1967D2;\n",
              "      height: 32px;\n",
              "      padding: 0 0 0 0;\n",
              "      width: 32px;\n",
              "    }\n",
              "\n",
              "    .colab-df-convert:hover {\n",
              "      background-color: #E2EBFA;\n",
              "      box-shadow: 0px 1px 2px rgba(60, 64, 67, 0.3), 0px 1px 3px 1px rgba(60, 64, 67, 0.15);\n",
              "      fill: #174EA6;\n",
              "    }\n",
              "\n",
              "    .colab-df-buttons div {\n",
              "      margin-bottom: 4px;\n",
              "    }\n",
              "\n",
              "    [theme=dark] .colab-df-convert {\n",
              "      background-color: #3B4455;\n",
              "      fill: #D2E3FC;\n",
              "    }\n",
              "\n",
              "    [theme=dark] .colab-df-convert:hover {\n",
              "      background-color: #434B5C;\n",
              "      box-shadow: 0px 1px 3px 1px rgba(0, 0, 0, 0.15);\n",
              "      filter: drop-shadow(0px 1px 2px rgba(0, 0, 0, 0.3));\n",
              "      fill: #FFFFFF;\n",
              "    }\n",
              "  </style>\n",
              "\n",
              "    <script>\n",
              "      const buttonEl =\n",
              "        document.querySelector('#df-66edfab0-1133-440c-8df1-e38306ebb2b8 button.colab-df-convert');\n",
              "      buttonEl.style.display =\n",
              "        google.colab.kernel.accessAllowed ? 'block' : 'none';\n",
              "\n",
              "      async function convertToInteractive(key) {\n",
              "        const element = document.querySelector('#df-66edfab0-1133-440c-8df1-e38306ebb2b8');\n",
              "        const dataTable =\n",
              "          await google.colab.kernel.invokeFunction('convertToInteractive',\n",
              "                                                    [key], {});\n",
              "        if (!dataTable) return;\n",
              "\n",
              "        const docLinkHtml = 'Like what you see? Visit the ' +\n",
              "          '<a target=\"_blank\" href=https://colab.research.google.com/notebooks/data_table.ipynb>data table notebook</a>'\n",
              "          + ' to learn more about interactive tables.';\n",
              "        element.innerHTML = '';\n",
              "        dataTable['output_type'] = 'display_data';\n",
              "        await google.colab.output.renderOutput(dataTable, element);\n",
              "        const docLink = document.createElement('div');\n",
              "        docLink.innerHTML = docLinkHtml;\n",
              "        element.appendChild(docLink);\n",
              "      }\n",
              "    </script>\n",
              "  </div>\n",
              "\n",
              "\n",
              "<div id=\"df-d572f831-c5b5-4c4b-a9b3-8a586d60dde7\">\n",
              "  <button class=\"colab-df-quickchart\" onclick=\"quickchart('df-d572f831-c5b5-4c4b-a9b3-8a586d60dde7')\"\n",
              "            title=\"Suggest charts\"\n",
              "            style=\"display:none;\">\n",
              "\n",
              "<svg xmlns=\"http://www.w3.org/2000/svg\" height=\"24px\"viewBox=\"0 0 24 24\"\n",
              "     width=\"24px\">\n",
              "    <g>\n",
              "        <path d=\"M19 3H5c-1.1 0-2 .9-2 2v14c0 1.1.9 2 2 2h14c1.1 0 2-.9 2-2V5c0-1.1-.9-2-2-2zM9 17H7v-7h2v7zm4 0h-2V7h2v10zm4 0h-2v-4h2v4z\"/>\n",
              "    </g>\n",
              "</svg>\n",
              "  </button>\n",
              "\n",
              "<style>\n",
              "  .colab-df-quickchart {\n",
              "      --bg-color: #E8F0FE;\n",
              "      --fill-color: #1967D2;\n",
              "      --hover-bg-color: #E2EBFA;\n",
              "      --hover-fill-color: #174EA6;\n",
              "      --disabled-fill-color: #AAA;\n",
              "      --disabled-bg-color: #DDD;\n",
              "  }\n",
              "\n",
              "  [theme=dark] .colab-df-quickchart {\n",
              "      --bg-color: #3B4455;\n",
              "      --fill-color: #D2E3FC;\n",
              "      --hover-bg-color: #434B5C;\n",
              "      --hover-fill-color: #FFFFFF;\n",
              "      --disabled-bg-color: #3B4455;\n",
              "      --disabled-fill-color: #666;\n",
              "  }\n",
              "\n",
              "  .colab-df-quickchart {\n",
              "    background-color: var(--bg-color);\n",
              "    border: none;\n",
              "    border-radius: 50%;\n",
              "    cursor: pointer;\n",
              "    display: none;\n",
              "    fill: var(--fill-color);\n",
              "    height: 32px;\n",
              "    padding: 0;\n",
              "    width: 32px;\n",
              "  }\n",
              "\n",
              "  .colab-df-quickchart:hover {\n",
              "    background-color: var(--hover-bg-color);\n",
              "    box-shadow: 0 1px 2px rgba(60, 64, 67, 0.3), 0 1px 3px 1px rgba(60, 64, 67, 0.15);\n",
              "    fill: var(--button-hover-fill-color);\n",
              "  }\n",
              "\n",
              "  .colab-df-quickchart-complete:disabled,\n",
              "  .colab-df-quickchart-complete:disabled:hover {\n",
              "    background-color: var(--disabled-bg-color);\n",
              "    fill: var(--disabled-fill-color);\n",
              "    box-shadow: none;\n",
              "  }\n",
              "\n",
              "  .colab-df-spinner {\n",
              "    border: 2px solid var(--fill-color);\n",
              "    border-color: transparent;\n",
              "    border-bottom-color: var(--fill-color);\n",
              "    animation:\n",
              "      spin 1s steps(1) infinite;\n",
              "  }\n",
              "\n",
              "  @keyframes spin {\n",
              "    0% {\n",
              "      border-color: transparent;\n",
              "      border-bottom-color: var(--fill-color);\n",
              "      border-left-color: var(--fill-color);\n",
              "    }\n",
              "    20% {\n",
              "      border-color: transparent;\n",
              "      border-left-color: var(--fill-color);\n",
              "      border-top-color: var(--fill-color);\n",
              "    }\n",
              "    30% {\n",
              "      border-color: transparent;\n",
              "      border-left-color: var(--fill-color);\n",
              "      border-top-color: var(--fill-color);\n",
              "      border-right-color: var(--fill-color);\n",
              "    }\n",
              "    40% {\n",
              "      border-color: transparent;\n",
              "      border-right-color: var(--fill-color);\n",
              "      border-top-color: var(--fill-color);\n",
              "    }\n",
              "    60% {\n",
              "      border-color: transparent;\n",
              "      border-right-color: var(--fill-color);\n",
              "    }\n",
              "    80% {\n",
              "      border-color: transparent;\n",
              "      border-right-color: var(--fill-color);\n",
              "      border-bottom-color: var(--fill-color);\n",
              "    }\n",
              "    90% {\n",
              "      border-color: transparent;\n",
              "      border-bottom-color: var(--fill-color);\n",
              "    }\n",
              "  }\n",
              "</style>\n",
              "\n",
              "  <script>\n",
              "    async function quickchart(key) {\n",
              "      const quickchartButtonEl =\n",
              "        document.querySelector('#' + key + ' button');\n",
              "      quickchartButtonEl.disabled = true;  // To prevent multiple clicks.\n",
              "      quickchartButtonEl.classList.add('colab-df-spinner');\n",
              "      try {\n",
              "        const charts = await google.colab.kernel.invokeFunction(\n",
              "            'suggestCharts', [key], {});\n",
              "      } catch (error) {\n",
              "        console.error('Error during call to suggestCharts:', error);\n",
              "      }\n",
              "      quickchartButtonEl.classList.remove('colab-df-spinner');\n",
              "      quickchartButtonEl.classList.add('colab-df-quickchart-complete');\n",
              "    }\n",
              "    (() => {\n",
              "      let quickchartButtonEl =\n",
              "        document.querySelector('#df-d572f831-c5b5-4c4b-a9b3-8a586d60dde7 button');\n",
              "      quickchartButtonEl.style.display =\n",
              "        google.colab.kernel.accessAllowed ? 'block' : 'none';\n",
              "    })();\n",
              "  </script>\n",
              "</div>\n",
              "    </div>\n",
              "  </div>\n"
            ],
            "application/vnd.google.colaboratory.intrinsic+json": {
              "type": "dataframe",
              "variable_name": "companies_data",
              "summary": "{\n  \"name\": \"companies_data\",\n  \"rows\": 10000,\n  \"fields\": [\n    {\n      \"column\": \"Company_name\",\n      \"properties\": {\n        \"dtype\": \"string\",\n        \"num_unique_values\": 9355,\n        \"samples\": [\n          \"Alphamed Formulations\",\n          \"Fosroc Chemicals India\",\n          \"Mindcrest\"\n        ],\n        \"semantic_type\": \"\",\n        \"description\": \"\"\n      }\n    },\n    {\n      \"column\": \"Description\",\n      \"properties\": {\n        \"dtype\": \"string\",\n        \"num_unique_values\": 9330,\n        \"samples\": [\n          \"Real Estate | 501-1k Employees | 23 years old | Pune +1 more\",\n          \"Auto Components | 201-500 Employees | 26 years old | Pune +9 more\",\n          \"Education & Training | 1k-5k Employees | 8 years old | Singapore +16 more\"\n        ],\n        \"semantic_type\": \"\",\n        \"description\": \"\"\n      }\n    },\n    {\n      \"column\": \"Ratings\",\n      \"properties\": {\n        \"dtype\": \"number\",\n        \"std\": 0.3858936476423641,\n        \"min\": 1.3,\n        \"max\": 5.0,\n        \"num_unique_values\": 34,\n        \"samples\": [\n          3.4,\n          3.0,\n          2.3\n        ],\n        \"semantic_type\": \"\",\n        \"description\": \"\"\n      }\n    },\n    {\n      \"column\": \"Highly_rated_for\",\n      \"properties\": {\n        \"dtype\": \"category\",\n        \"num_unique_values\": 253,\n        \"samples\": [\n          \"Work Life Balance, Company Culture, Promotions / Appraisal\",\n          \"Job Security, Skill Development / Learning, Company Culture\",\n          \"Skill Development / Learning, Company Culture, Work Satisfaction\"\n        ],\n        \"semantic_type\": \"\",\n        \"description\": \"\"\n      }\n    },\n    {\n      \"column\": \"Critically_rated_for\",\n      \"properties\": {\n        \"dtype\": \"category\",\n        \"num_unique_values\": 137,\n        \"samples\": [\n          \"Skill Development / Learning, Promotions / Appraisal, Job Security\",\n          \"Company Culture, Salary & Benefits\",\n          \"Promotions / Appraisal, Salary & Benefits, Company Culture\"\n        ],\n        \"semantic_type\": \"\",\n        \"description\": \"\"\n      }\n    },\n    {\n      \"column\": \"Total_reviews\",\n      \"properties\": {\n        \"dtype\": \"category\",\n        \"num_unique_values\": 889,\n        \"samples\": [\n          \"715\",\n          \"529\",\n          \"7k\"\n        ],\n        \"semantic_type\": \"\",\n        \"description\": \"\"\n      }\n    },\n    {\n      \"column\": \"Avg_salary\",\n      \"properties\": {\n        \"dtype\": \"category\",\n        \"num_unique_values\": 1229,\n        \"samples\": [\n          \"432\",\n          \"441\",\n          \"11.8k\"\n        ],\n        \"semantic_type\": \"\",\n        \"description\": \"\"\n      }\n    },\n    {\n      \"column\": \"Interviews_taken\",\n      \"properties\": {\n        \"dtype\": \"category\",\n        \"num_unique_values\": 306,\n        \"samples\": [\n          \"83\",\n          \"116\",\n          \"111\"\n        ],\n        \"semantic_type\": \"\",\n        \"description\": \"\"\n      }\n    },\n    {\n      \"column\": \"Total_jobs_available\",\n      \"properties\": {\n        \"dtype\": \"category\",\n        \"num_unique_values\": 309,\n        \"samples\": [\n          \"102\",\n          \"782\",\n          \"116\"\n        ],\n        \"semantic_type\": \"\",\n        \"description\": \"\"\n      }\n    },\n    {\n      \"column\": \"Total_benefits\",\n      \"properties\": {\n        \"dtype\": \"category\",\n        \"num_unique_values\": 471,\n        \"samples\": [\n          \"698\",\n          \"513\",\n          \"880\"\n        ],\n        \"semantic_type\": \"\",\n        \"description\": \"\"\n      }\n    }\n  ]\n}"
            }
          },
          "metadata": {},
          "execution_count": 10
        }
      ],
      "source": [
        "import pandas as pd\n",
        "import numpy as np\n",
        "\n",
        "companies_data = pd.read_csv('/content/drive/MyDrive/DataFrames/Companies_project/Companies.csv')\n",
        "companies_data.head(5)"
      ]
    },
    {
      "cell_type": "markdown",
      "source": [
        "#2. Total records, define numeric & non-num columns"
      ],
      "metadata": {
        "id": "9CiWF7WABy5N"
      }
    },
    {
      "cell_type": "code",
      "source": [
        "print(\"Number of rows: {}\".format(companies_data.shape[0]))\n",
        "print(\"Number of columns: {}\".format(companies_data.shape[1]))"
      ],
      "metadata": {
        "colab": {
          "base_uri": "https://localhost:8080/"
        },
        "id": "yU1Z2_jfB9I8",
        "outputId": "7b7044fd-15f8-405d-f2bf-3d55e004bb73"
      },
      "execution_count": null,
      "outputs": [
        {
          "output_type": "stream",
          "name": "stdout",
          "text": [
            "Number of rows: 10000\n",
            "Number of columns: 10\n"
          ]
        }
      ]
    },
    {
      "cell_type": "markdown",
      "source": [
        "So we have 10 000 rows and 10 columns. Below line of a code checks wich columns we have, and we should make analysis what types of each columns are expected."
      ],
      "metadata": {
        "id": "xKRmhUwSCUCY"
      }
    },
    {
      "cell_type": "code",
      "source": [
        "print(\"Columns in our data: {}\".format(companies_data.columns.values))"
      ],
      "metadata": {
        "colab": {
          "base_uri": "https://localhost:8080/"
        },
        "id": "r_xsOrJuDVeU",
        "outputId": "b04083c7-1434-4918-e88a-88136230c9a0"
      },
      "execution_count": null,
      "outputs": [
        {
          "output_type": "stream",
          "name": "stdout",
          "text": [
            "Columns in our data: ['Company_name' 'Description' 'Ratings' 'Highly_rated_for'\n",
            " 'Critically_rated_for' 'Total_reviews' 'Avg_salary' 'Interviews_taken'\n",
            " 'Total_jobs_available' 'Total_benefits']\n"
          ]
        }
      ]
    },
    {
      "cell_type": "markdown",
      "source": [
        "**'Name_of_col' - dtype is expected**\n",
        "\n",
        "*   'Company_name' - str\n",
        "*   'Description' - str\n",
        "*   'Ratings' - str\n",
        "*   'Highly_rated_for' - str\n",
        "*   'Critically_rated_for' - str\n",
        "*   'Total_reviews' - float/int\n",
        "*   'Avg_salary' - float/int\n",
        "*   'Interviews_taken' - float/int\n",
        "*   'Total_jobs_available' - float/int\n",
        "*   'Total_benefits' - float/int\n",
        "\n",
        "\n",
        "\n",
        "\n",
        "\n",
        "\n",
        "\n",
        "\n",
        "\n"
      ],
      "metadata": {
        "id": "spjOpnEJD0Jq"
      }
    },
    {
      "cell_type": "markdown",
      "source": [
        "Here we can check if dtypes are appropriate"
      ],
      "metadata": {
        "id": "yu0833VVIdPW"
      }
    },
    {
      "cell_type": "code",
      "source": [
        "# selct numeric columns\n",
        "companies_data_num = companies_data.select_dtypes(include=[np.number])\n",
        "numeric_cols = companies_data_num.columns.values\n",
        "print(\"The numeric columns: {}\".format(numeric_cols))\n",
        "\n",
        "# select non-num colums\n",
        "companies_data_nonnum = companies_data.select_dtypes(exclude=[np.number])\n",
        "nonnumeric_cols = companies_data_nonnum.columns.values\n",
        "print(\"The non-numeric columns: {}\".format(nonnumeric_cols))"
      ],
      "metadata": {
        "colab": {
          "base_uri": "https://localhost:8080/"
        },
        "id": "e8H4Zb1ZCZ-b",
        "outputId": "fe5724be-679e-470e-b81e-aac082d4a23c"
      },
      "execution_count": null,
      "outputs": [
        {
          "output_type": "stream",
          "name": "stdout",
          "text": [
            "The numeric columns: ['Ratings']\n",
            "The non-numeric columns: ['Company_name' 'Description' 'Highly_rated_for' 'Critically_rated_for'\n",
            " 'Total_reviews' 'Avg_salary' 'Interviews_taken' 'Total_jobs_available'\n",
            " 'Total_benefits']\n"
          ]
        }
      ]
    },
    {
      "cell_type": "markdown",
      "source": [
        "Anfortunatly, the dtypes of num expected columns are not float or int. Let's check unique values each of these colmns."
      ],
      "metadata": {
        "id": "OdXHQqj1JKsS"
      }
    },
    {
      "cell_type": "code",
      "source": [
        "# np.set_printoptions(threshold=np.inf)\n",
        "\n",
        "# companies_data['Total_reviews'].unique()\n",
        "# companies_data['Avg_salary'].unique()\n",
        "# companies_data['Interviews_taken'].unique()\n",
        "# companies_data['Total_jobs_available'].unique()\n",
        "# companies_data['Total_benefits'].unique()"
      ],
      "metadata": {
        "id": "7IJ_Qf7VFAfl"
      },
      "execution_count": null,
      "outputs": []
    },
    {
      "cell_type": "markdown",
      "source": [
        "After analysing of unigue values of each columns which should be numeric columns, we have unexpected symbol '--'. There is necessity to replace it on 'Nan'. Also we have sufix 'k' which means that the number should multiply by 1000. We won' be able to change a dtype if don't fix that."
      ],
      "metadata": {
        "id": "UJmrwkKNG8Xg"
      }
    },
    {
      "cell_type": "markdown",
      "source": [
        "# 3. Changing dtype"
      ],
      "metadata": {
        "id": "jIE6Y4Mkk1zj"
      }
    },
    {
      "cell_type": "code",
      "source": [
        "print(\"All columns which must have int type: {}\".format(companies_data.columns.values[5:]))"
      ],
      "metadata": {
        "colab": {
          "base_uri": "https://localhost:8080/"
        },
        "id": "-xci2XT2lcFx",
        "outputId": "23063a6b-84ee-4c5d-9b8e-7d8af5fbbe70"
      },
      "execution_count": null,
      "outputs": [
        {
          "output_type": "stream",
          "name": "stdout",
          "text": [
            "All columns which must have int type: ['Total_reviews' 'Avg_salary' 'Interviews_taken' 'Total_jobs_available'\n",
            " 'Total_benefits']\n"
          ]
        }
      ]
    },
    {
      "cell_type": "markdown",
      "source": [
        "Fisrst we should replace '--' on Nan in all columns (exeption is 'Total_reviews'). Writing the function wich delete k"
      ],
      "metadata": {
        "id": "WYQByxBZlV5l"
      }
    },
    {
      "cell_type": "code",
      "source": [
        "companies_data_copy = pd.read_csv('/content/drive/MyDrive/DataFrames/Companies_project/Companies.csv')\n",
        "\n",
        "# function which changes '--' on 'NaN'\n",
        "def replacing_nan(row):\n",
        "  if row == '--':\n",
        "    return row.replace('--', 'NaN')\n",
        "  else:\n",
        "    return row\n",
        "\n",
        "# function which removes 'k' from the end of each row and returns its by * 1000\n",
        "def removing_k(row):\n",
        "    if 'k' in row:\n",
        "        row = row.replace('k', '')\n",
        "        return float(row) * 1000\n",
        "    else:\n",
        "        return row\n",
        "\n",
        "# Apply the functions to respective columns\n",
        "columns_to_process = ['Avg_salary', 'Interviews_taken', 'Total_jobs_available', 'Total_benefits']\n",
        "for col in columns_to_process:\n",
        "    companies_data_copy[col] = companies_data_copy[col].apply(replacing_nan).apply(removing_k).astype('float64')\n",
        "\n",
        "# Convert 'Total_reviews' column to numeric and handle 'k' suffix\n",
        "companies_data_copy['Total_reviews'] = companies_data_copy['Total_reviews'].apply(removing_k).astype('float64')"
      ],
      "metadata": {
        "id": "JvNSZJZD_B0Z"
      },
      "execution_count": null,
      "outputs": []
    },
    {
      "cell_type": "markdown",
      "source": [
        "Source & Modify data compare"
      ],
      "metadata": {
        "id": "umrMZvVVyhjZ"
      }
    },
    {
      "cell_type": "code",
      "source": [
        "pd.concat([companies_data['Total_reviews'], companies_data_copy['Total_reviews']],\n",
        "          axis=1, keys=['Source data', 'Modify data'])"
      ],
      "metadata": {
        "id": "YtfrBzm-voaM",
        "colab": {
          "base_uri": "https://localhost:8080/"
        },
        "outputId": "8303ce97-046f-4bd6-8a96-ed987b11c047"
      },
      "execution_count": null,
      "outputs": [
        {
          "output_type": "execute_result",
          "data": {
            "text/plain": [
              "     Source data  Modify data\n",
              "0          73.1k      73100.0\n",
              "1          46.4k      46400.0\n",
              "2          41.7k      41700.0\n",
              "3          39.2k      39200.0\n",
              "4            34k      34000.0\n",
              "...          ...          ...\n",
              "9995          72         72.0\n",
              "9996          72         72.0\n",
              "9997          72         72.0\n",
              "9998          72         72.0\n",
              "9999          72         72.0\n",
              "\n",
              "[10000 rows x 2 columns]"
            ],
            "text/html": [
              "\n",
              "  <div id=\"df-62359fb3-30d4-400c-b4ad-e0070736b990\" class=\"colab-df-container\">\n",
              "    <div>\n",
              "<style scoped>\n",
              "    .dataframe tbody tr th:only-of-type {\n",
              "        vertical-align: middle;\n",
              "    }\n",
              "\n",
              "    .dataframe tbody tr th {\n",
              "        vertical-align: top;\n",
              "    }\n",
              "\n",
              "    .dataframe thead th {\n",
              "        text-align: right;\n",
              "    }\n",
              "</style>\n",
              "<table border=\"1\" class=\"dataframe\">\n",
              "  <thead>\n",
              "    <tr style=\"text-align: right;\">\n",
              "      <th></th>\n",
              "      <th>Source data</th>\n",
              "      <th>Modify data</th>\n",
              "    </tr>\n",
              "  </thead>\n",
              "  <tbody>\n",
              "    <tr>\n",
              "      <th>0</th>\n",
              "      <td>73.1k</td>\n",
              "      <td>73100.0</td>\n",
              "    </tr>\n",
              "    <tr>\n",
              "      <th>1</th>\n",
              "      <td>46.4k</td>\n",
              "      <td>46400.0</td>\n",
              "    </tr>\n",
              "    <tr>\n",
              "      <th>2</th>\n",
              "      <td>41.7k</td>\n",
              "      <td>41700.0</td>\n",
              "    </tr>\n",
              "    <tr>\n",
              "      <th>3</th>\n",
              "      <td>39.2k</td>\n",
              "      <td>39200.0</td>\n",
              "    </tr>\n",
              "    <tr>\n",
              "      <th>4</th>\n",
              "      <td>34k</td>\n",
              "      <td>34000.0</td>\n",
              "    </tr>\n",
              "    <tr>\n",
              "      <th>...</th>\n",
              "      <td>...</td>\n",
              "      <td>...</td>\n",
              "    </tr>\n",
              "    <tr>\n",
              "      <th>9995</th>\n",
              "      <td>72</td>\n",
              "      <td>72.0</td>\n",
              "    </tr>\n",
              "    <tr>\n",
              "      <th>9996</th>\n",
              "      <td>72</td>\n",
              "      <td>72.0</td>\n",
              "    </tr>\n",
              "    <tr>\n",
              "      <th>9997</th>\n",
              "      <td>72</td>\n",
              "      <td>72.0</td>\n",
              "    </tr>\n",
              "    <tr>\n",
              "      <th>9998</th>\n",
              "      <td>72</td>\n",
              "      <td>72.0</td>\n",
              "    </tr>\n",
              "    <tr>\n",
              "      <th>9999</th>\n",
              "      <td>72</td>\n",
              "      <td>72.0</td>\n",
              "    </tr>\n",
              "  </tbody>\n",
              "</table>\n",
              "<p>10000 rows × 2 columns</p>\n",
              "</div>\n",
              "    <div class=\"colab-df-buttons\">\n",
              "\n",
              "  <div class=\"colab-df-container\">\n",
              "    <button class=\"colab-df-convert\" onclick=\"convertToInteractive('df-62359fb3-30d4-400c-b4ad-e0070736b990')\"\n",
              "            title=\"Convert this dataframe to an interactive table.\"\n",
              "            style=\"display:none;\">\n",
              "\n",
              "  <svg xmlns=\"http://www.w3.org/2000/svg\" height=\"24px\" viewBox=\"0 -960 960 960\">\n",
              "    <path d=\"M120-120v-720h720v720H120Zm60-500h600v-160H180v160Zm220 220h160v-160H400v160Zm0 220h160v-160H400v160ZM180-400h160v-160H180v160Zm440 0h160v-160H620v160ZM180-180h160v-160H180v160Zm440 0h160v-160H620v160Z\"/>\n",
              "  </svg>\n",
              "    </button>\n",
              "\n",
              "  <style>\n",
              "    .colab-df-container {\n",
              "      display:flex;\n",
              "      gap: 12px;\n",
              "    }\n",
              "\n",
              "    .colab-df-convert {\n",
              "      background-color: #E8F0FE;\n",
              "      border: none;\n",
              "      border-radius: 50%;\n",
              "      cursor: pointer;\n",
              "      display: none;\n",
              "      fill: #1967D2;\n",
              "      height: 32px;\n",
              "      padding: 0 0 0 0;\n",
              "      width: 32px;\n",
              "    }\n",
              "\n",
              "    .colab-df-convert:hover {\n",
              "      background-color: #E2EBFA;\n",
              "      box-shadow: 0px 1px 2px rgba(60, 64, 67, 0.3), 0px 1px 3px 1px rgba(60, 64, 67, 0.15);\n",
              "      fill: #174EA6;\n",
              "    }\n",
              "\n",
              "    .colab-df-buttons div {\n",
              "      margin-bottom: 4px;\n",
              "    }\n",
              "\n",
              "    [theme=dark] .colab-df-convert {\n",
              "      background-color: #3B4455;\n",
              "      fill: #D2E3FC;\n",
              "    }\n",
              "\n",
              "    [theme=dark] .colab-df-convert:hover {\n",
              "      background-color: #434B5C;\n",
              "      box-shadow: 0px 1px 3px 1px rgba(0, 0, 0, 0.15);\n",
              "      filter: drop-shadow(0px 1px 2px rgba(0, 0, 0, 0.3));\n",
              "      fill: #FFFFFF;\n",
              "    }\n",
              "  </style>\n",
              "\n",
              "    <script>\n",
              "      const buttonEl =\n",
              "        document.querySelector('#df-62359fb3-30d4-400c-b4ad-e0070736b990 button.colab-df-convert');\n",
              "      buttonEl.style.display =\n",
              "        google.colab.kernel.accessAllowed ? 'block' : 'none';\n",
              "\n",
              "      async function convertToInteractive(key) {\n",
              "        const element = document.querySelector('#df-62359fb3-30d4-400c-b4ad-e0070736b990');\n",
              "        const dataTable =\n",
              "          await google.colab.kernel.invokeFunction('convertToInteractive',\n",
              "                                                    [key], {});\n",
              "        if (!dataTable) return;\n",
              "\n",
              "        const docLinkHtml = 'Like what you see? Visit the ' +\n",
              "          '<a target=\"_blank\" href=https://colab.research.google.com/notebooks/data_table.ipynb>data table notebook</a>'\n",
              "          + ' to learn more about interactive tables.';\n",
              "        element.innerHTML = '';\n",
              "        dataTable['output_type'] = 'display_data';\n",
              "        await google.colab.output.renderOutput(dataTable, element);\n",
              "        const docLink = document.createElement('div');\n",
              "        docLink.innerHTML = docLinkHtml;\n",
              "        element.appendChild(docLink);\n",
              "      }\n",
              "    </script>\n",
              "  </div>\n",
              "\n",
              "\n",
              "<div id=\"df-2a808536-79bd-43f8-96b2-1edd46168df8\">\n",
              "  <button class=\"colab-df-quickchart\" onclick=\"quickchart('df-2a808536-79bd-43f8-96b2-1edd46168df8')\"\n",
              "            title=\"Suggest charts\"\n",
              "            style=\"display:none;\">\n",
              "\n",
              "<svg xmlns=\"http://www.w3.org/2000/svg\" height=\"24px\"viewBox=\"0 0 24 24\"\n",
              "     width=\"24px\">\n",
              "    <g>\n",
              "        <path d=\"M19 3H5c-1.1 0-2 .9-2 2v14c0 1.1.9 2 2 2h14c1.1 0 2-.9 2-2V5c0-1.1-.9-2-2-2zM9 17H7v-7h2v7zm4 0h-2V7h2v10zm4 0h-2v-4h2v4z\"/>\n",
              "    </g>\n",
              "</svg>\n",
              "  </button>\n",
              "\n",
              "<style>\n",
              "  .colab-df-quickchart {\n",
              "      --bg-color: #E8F0FE;\n",
              "      --fill-color: #1967D2;\n",
              "      --hover-bg-color: #E2EBFA;\n",
              "      --hover-fill-color: #174EA6;\n",
              "      --disabled-fill-color: #AAA;\n",
              "      --disabled-bg-color: #DDD;\n",
              "  }\n",
              "\n",
              "  [theme=dark] .colab-df-quickchart {\n",
              "      --bg-color: #3B4455;\n",
              "      --fill-color: #D2E3FC;\n",
              "      --hover-bg-color: #434B5C;\n",
              "      --hover-fill-color: #FFFFFF;\n",
              "      --disabled-bg-color: #3B4455;\n",
              "      --disabled-fill-color: #666;\n",
              "  }\n",
              "\n",
              "  .colab-df-quickchart {\n",
              "    background-color: var(--bg-color);\n",
              "    border: none;\n",
              "    border-radius: 50%;\n",
              "    cursor: pointer;\n",
              "    display: none;\n",
              "    fill: var(--fill-color);\n",
              "    height: 32px;\n",
              "    padding: 0;\n",
              "    width: 32px;\n",
              "  }\n",
              "\n",
              "  .colab-df-quickchart:hover {\n",
              "    background-color: var(--hover-bg-color);\n",
              "    box-shadow: 0 1px 2px rgba(60, 64, 67, 0.3), 0 1px 3px 1px rgba(60, 64, 67, 0.15);\n",
              "    fill: var(--button-hover-fill-color);\n",
              "  }\n",
              "\n",
              "  .colab-df-quickchart-complete:disabled,\n",
              "  .colab-df-quickchart-complete:disabled:hover {\n",
              "    background-color: var(--disabled-bg-color);\n",
              "    fill: var(--disabled-fill-color);\n",
              "    box-shadow: none;\n",
              "  }\n",
              "\n",
              "  .colab-df-spinner {\n",
              "    border: 2px solid var(--fill-color);\n",
              "    border-color: transparent;\n",
              "    border-bottom-color: var(--fill-color);\n",
              "    animation:\n",
              "      spin 1s steps(1) infinite;\n",
              "  }\n",
              "\n",
              "  @keyframes spin {\n",
              "    0% {\n",
              "      border-color: transparent;\n",
              "      border-bottom-color: var(--fill-color);\n",
              "      border-left-color: var(--fill-color);\n",
              "    }\n",
              "    20% {\n",
              "      border-color: transparent;\n",
              "      border-left-color: var(--fill-color);\n",
              "      border-top-color: var(--fill-color);\n",
              "    }\n",
              "    30% {\n",
              "      border-color: transparent;\n",
              "      border-left-color: var(--fill-color);\n",
              "      border-top-color: var(--fill-color);\n",
              "      border-right-color: var(--fill-color);\n",
              "    }\n",
              "    40% {\n",
              "      border-color: transparent;\n",
              "      border-right-color: var(--fill-color);\n",
              "      border-top-color: var(--fill-color);\n",
              "    }\n",
              "    60% {\n",
              "      border-color: transparent;\n",
              "      border-right-color: var(--fill-color);\n",
              "    }\n",
              "    80% {\n",
              "      border-color: transparent;\n",
              "      border-right-color: var(--fill-color);\n",
              "      border-bottom-color: var(--fill-color);\n",
              "    }\n",
              "    90% {\n",
              "      border-color: transparent;\n",
              "      border-bottom-color: var(--fill-color);\n",
              "    }\n",
              "  }\n",
              "</style>\n",
              "\n",
              "  <script>\n",
              "    async function quickchart(key) {\n",
              "      const quickchartButtonEl =\n",
              "        document.querySelector('#' + key + ' button');\n",
              "      quickchartButtonEl.disabled = true;  // To prevent multiple clicks.\n",
              "      quickchartButtonEl.classList.add('colab-df-spinner');\n",
              "      try {\n",
              "        const charts = await google.colab.kernel.invokeFunction(\n",
              "            'suggestCharts', [key], {});\n",
              "      } catch (error) {\n",
              "        console.error('Error during call to suggestCharts:', error);\n",
              "      }\n",
              "      quickchartButtonEl.classList.remove('colab-df-spinner');\n",
              "      quickchartButtonEl.classList.add('colab-df-quickchart-complete');\n",
              "    }\n",
              "    (() => {\n",
              "      let quickchartButtonEl =\n",
              "        document.querySelector('#df-2a808536-79bd-43f8-96b2-1edd46168df8 button');\n",
              "      quickchartButtonEl.style.display =\n",
              "        google.colab.kernel.accessAllowed ? 'block' : 'none';\n",
              "    })();\n",
              "  </script>\n",
              "</div>\n",
              "    </div>\n",
              "  </div>\n"
            ],
            "application/vnd.google.colaboratory.intrinsic+json": {
              "type": "dataframe",
              "summary": "{\n  \"name\": \"          axis=1, keys=['Source data', 'Modify data'])\",\n  \"rows\": 10000,\n  \"fields\": [\n    {\n      \"column\": \"Source data\",\n      \"properties\": {\n        \"dtype\": \"category\",\n        \"num_unique_values\": 889,\n        \"samples\": [\n          \"715\",\n          \"529\",\n          \"7k\"\n        ],\n        \"semantic_type\": \"\",\n        \"description\": \"\"\n      }\n    },\n    {\n      \"column\": \"Modify data\",\n      \"properties\": {\n        \"dtype\": \"number\",\n        \"std\": 1626.9854392469842,\n        \"min\": 72.0,\n        \"max\": 73100.0,\n        \"num_unique_values\": 889,\n        \"samples\": [\n          715.0,\n          529.0,\n          7000.0\n        ],\n        \"semantic_type\": \"\",\n        \"description\": \"\"\n      }\n    }\n  ]\n}"
            }
          },
          "metadata": {},
          "execution_count": 20
        }
      ]
    },
    {
      "cell_type": "markdown",
      "source": [
        "As we can see on an exapmle with column \"Total_reviews\", above funcition succesfuly have changed our data."
      ],
      "metadata": {
        "id": "5baQ9_vk4P29"
      }
    },
    {
      "cell_type": "markdown",
      "source": [
        "Checking info after modify"
      ],
      "metadata": {
        "id": "JpH-kyHCy1C0"
      }
    },
    {
      "cell_type": "code",
      "source": [
        "companies_data_copy.info()"
      ],
      "metadata": {
        "id": "oBi5oAZGyrUe",
        "colab": {
          "base_uri": "https://localhost:8080/"
        },
        "outputId": "26272f3a-78be-45b8-eaa8-fb57a06ce82e"
      },
      "execution_count": null,
      "outputs": [
        {
          "output_type": "stream",
          "name": "stdout",
          "text": [
            "<class 'pandas.core.frame.DataFrame'>\n",
            "RangeIndex: 10000 entries, 0 to 9999\n",
            "Data columns (total 10 columns):\n",
            " #   Column                Non-Null Count  Dtype  \n",
            "---  ------                --------------  -----  \n",
            " 0   Company_name          10000 non-null  object \n",
            " 1   Description           10000 non-null  object \n",
            " 2   Ratings               10000 non-null  float64\n",
            " 3   Highly_rated_for      9908 non-null   object \n",
            " 4   Critically_rated_for  2807 non-null   object \n",
            " 5   Total_reviews         10000 non-null  float64\n",
            " 6   Avg_salary            9998 non-null   float64\n",
            " 7   Interviews_taken      9781 non-null   float64\n",
            " 8   Total_jobs_available  6077 non-null   float64\n",
            " 9   Total_benefits        9921 non-null   float64\n",
            "dtypes: float64(6), object(4)\n",
            "memory usage: 781.4+ KB\n"
          ]
        }
      ]
    },
    {
      "cell_type": "markdown",
      "source": [
        "Now all columns after 'Critically_rated_for' have float type"
      ],
      "metadata": {
        "id": "Wpf7wrwk4oZq"
      }
    },
    {
      "cell_type": "code",
      "source": [
        "# applying df\n",
        "companies_data = companies_data_copy"
      ],
      "metadata": {
        "id": "3VAhwIXmZRUb"
      },
      "execution_count": null,
      "outputs": []
    },
    {
      "cell_type": "markdown",
      "source": [
        "#4. Missing Value Check & Duplication Checks"
      ],
      "metadata": {
        "id": "FlaUrlk7XriH"
      }
    },
    {
      "cell_type": "code",
      "source": [
        "values_are_null = companies_data.isna().sum()\n",
        "values_are_null_per = (values_are_null / companies_data.isna().count()) * 100\n",
        "\n",
        "missing_data = pd.concat([values_are_null, values_are_null_per], axis=1,\n",
        "                         keys=['Total', 'Percent'])\n",
        "missing_data"
      ],
      "metadata": {
        "id": "FVPRSObVX0jX",
        "colab": {
          "base_uri": "https://localhost:8080/",
          "height": 363
        },
        "outputId": "39bc44ac-3874-4e46-fb74-bd88f0af21b0"
      },
      "execution_count": null,
      "outputs": [
        {
          "output_type": "execute_result",
          "data": {
            "text/plain": [
              "                      Total  Percent\n",
              "Company_name              0     0.00\n",
              "Description               0     0.00\n",
              "Ratings                   0     0.00\n",
              "Highly_rated_for         92     0.92\n",
              "Critically_rated_for   7193    71.93\n",
              "Total_reviews             0     0.00\n",
              "Avg_salary                2     0.02\n",
              "Interviews_taken        219     2.19\n",
              "Total_jobs_available   3923    39.23\n",
              "Total_benefits           79     0.79"
            ],
            "text/html": [
              "\n",
              "  <div id=\"df-1bfffed3-45de-44b9-9465-2c62aaa5848b\" class=\"colab-df-container\">\n",
              "    <div>\n",
              "<style scoped>\n",
              "    .dataframe tbody tr th:only-of-type {\n",
              "        vertical-align: middle;\n",
              "    }\n",
              "\n",
              "    .dataframe tbody tr th {\n",
              "        vertical-align: top;\n",
              "    }\n",
              "\n",
              "    .dataframe thead th {\n",
              "        text-align: right;\n",
              "    }\n",
              "</style>\n",
              "<table border=\"1\" class=\"dataframe\">\n",
              "  <thead>\n",
              "    <tr style=\"text-align: right;\">\n",
              "      <th></th>\n",
              "      <th>Total</th>\n",
              "      <th>Percent</th>\n",
              "    </tr>\n",
              "  </thead>\n",
              "  <tbody>\n",
              "    <tr>\n",
              "      <th>Company_name</th>\n",
              "      <td>0</td>\n",
              "      <td>0.00</td>\n",
              "    </tr>\n",
              "    <tr>\n",
              "      <th>Description</th>\n",
              "      <td>0</td>\n",
              "      <td>0.00</td>\n",
              "    </tr>\n",
              "    <tr>\n",
              "      <th>Ratings</th>\n",
              "      <td>0</td>\n",
              "      <td>0.00</td>\n",
              "    </tr>\n",
              "    <tr>\n",
              "      <th>Highly_rated_for</th>\n",
              "      <td>92</td>\n",
              "      <td>0.92</td>\n",
              "    </tr>\n",
              "    <tr>\n",
              "      <th>Critically_rated_for</th>\n",
              "      <td>7193</td>\n",
              "      <td>71.93</td>\n",
              "    </tr>\n",
              "    <tr>\n",
              "      <th>Total_reviews</th>\n",
              "      <td>0</td>\n",
              "      <td>0.00</td>\n",
              "    </tr>\n",
              "    <tr>\n",
              "      <th>Avg_salary</th>\n",
              "      <td>2</td>\n",
              "      <td>0.02</td>\n",
              "    </tr>\n",
              "    <tr>\n",
              "      <th>Interviews_taken</th>\n",
              "      <td>219</td>\n",
              "      <td>2.19</td>\n",
              "    </tr>\n",
              "    <tr>\n",
              "      <th>Total_jobs_available</th>\n",
              "      <td>3923</td>\n",
              "      <td>39.23</td>\n",
              "    </tr>\n",
              "    <tr>\n",
              "      <th>Total_benefits</th>\n",
              "      <td>79</td>\n",
              "      <td>0.79</td>\n",
              "    </tr>\n",
              "  </tbody>\n",
              "</table>\n",
              "</div>\n",
              "    <div class=\"colab-df-buttons\">\n",
              "\n",
              "  <div class=\"colab-df-container\">\n",
              "    <button class=\"colab-df-convert\" onclick=\"convertToInteractive('df-1bfffed3-45de-44b9-9465-2c62aaa5848b')\"\n",
              "            title=\"Convert this dataframe to an interactive table.\"\n",
              "            style=\"display:none;\">\n",
              "\n",
              "  <svg xmlns=\"http://www.w3.org/2000/svg\" height=\"24px\" viewBox=\"0 -960 960 960\">\n",
              "    <path d=\"M120-120v-720h720v720H120Zm60-500h600v-160H180v160Zm220 220h160v-160H400v160Zm0 220h160v-160H400v160ZM180-400h160v-160H180v160Zm440 0h160v-160H620v160ZM180-180h160v-160H180v160Zm440 0h160v-160H620v160Z\"/>\n",
              "  </svg>\n",
              "    </button>\n",
              "\n",
              "  <style>\n",
              "    .colab-df-container {\n",
              "      display:flex;\n",
              "      gap: 12px;\n",
              "    }\n",
              "\n",
              "    .colab-df-convert {\n",
              "      background-color: #E8F0FE;\n",
              "      border: none;\n",
              "      border-radius: 50%;\n",
              "      cursor: pointer;\n",
              "      display: none;\n",
              "      fill: #1967D2;\n",
              "      height: 32px;\n",
              "      padding: 0 0 0 0;\n",
              "      width: 32px;\n",
              "    }\n",
              "\n",
              "    .colab-df-convert:hover {\n",
              "      background-color: #E2EBFA;\n",
              "      box-shadow: 0px 1px 2px rgba(60, 64, 67, 0.3), 0px 1px 3px 1px rgba(60, 64, 67, 0.15);\n",
              "      fill: #174EA6;\n",
              "    }\n",
              "\n",
              "    .colab-df-buttons div {\n",
              "      margin-bottom: 4px;\n",
              "    }\n",
              "\n",
              "    [theme=dark] .colab-df-convert {\n",
              "      background-color: #3B4455;\n",
              "      fill: #D2E3FC;\n",
              "    }\n",
              "\n",
              "    [theme=dark] .colab-df-convert:hover {\n",
              "      background-color: #434B5C;\n",
              "      box-shadow: 0px 1px 3px 1px rgba(0, 0, 0, 0.15);\n",
              "      filter: drop-shadow(0px 1px 2px rgba(0, 0, 0, 0.3));\n",
              "      fill: #FFFFFF;\n",
              "    }\n",
              "  </style>\n",
              "\n",
              "    <script>\n",
              "      const buttonEl =\n",
              "        document.querySelector('#df-1bfffed3-45de-44b9-9465-2c62aaa5848b button.colab-df-convert');\n",
              "      buttonEl.style.display =\n",
              "        google.colab.kernel.accessAllowed ? 'block' : 'none';\n",
              "\n",
              "      async function convertToInteractive(key) {\n",
              "        const element = document.querySelector('#df-1bfffed3-45de-44b9-9465-2c62aaa5848b');\n",
              "        const dataTable =\n",
              "          await google.colab.kernel.invokeFunction('convertToInteractive',\n",
              "                                                    [key], {});\n",
              "        if (!dataTable) return;\n",
              "\n",
              "        const docLinkHtml = 'Like what you see? Visit the ' +\n",
              "          '<a target=\"_blank\" href=https://colab.research.google.com/notebooks/data_table.ipynb>data table notebook</a>'\n",
              "          + ' to learn more about interactive tables.';\n",
              "        element.innerHTML = '';\n",
              "        dataTable['output_type'] = 'display_data';\n",
              "        await google.colab.output.renderOutput(dataTable, element);\n",
              "        const docLink = document.createElement('div');\n",
              "        docLink.innerHTML = docLinkHtml;\n",
              "        element.appendChild(docLink);\n",
              "      }\n",
              "    </script>\n",
              "  </div>\n",
              "\n",
              "\n",
              "<div id=\"df-5f4243d7-625a-4429-8200-5cc925d6ee47\">\n",
              "  <button class=\"colab-df-quickchart\" onclick=\"quickchart('df-5f4243d7-625a-4429-8200-5cc925d6ee47')\"\n",
              "            title=\"Suggest charts\"\n",
              "            style=\"display:none;\">\n",
              "\n",
              "<svg xmlns=\"http://www.w3.org/2000/svg\" height=\"24px\"viewBox=\"0 0 24 24\"\n",
              "     width=\"24px\">\n",
              "    <g>\n",
              "        <path d=\"M19 3H5c-1.1 0-2 .9-2 2v14c0 1.1.9 2 2 2h14c1.1 0 2-.9 2-2V5c0-1.1-.9-2-2-2zM9 17H7v-7h2v7zm4 0h-2V7h2v10zm4 0h-2v-4h2v4z\"/>\n",
              "    </g>\n",
              "</svg>\n",
              "  </button>\n",
              "\n",
              "<style>\n",
              "  .colab-df-quickchart {\n",
              "      --bg-color: #E8F0FE;\n",
              "      --fill-color: #1967D2;\n",
              "      --hover-bg-color: #E2EBFA;\n",
              "      --hover-fill-color: #174EA6;\n",
              "      --disabled-fill-color: #AAA;\n",
              "      --disabled-bg-color: #DDD;\n",
              "  }\n",
              "\n",
              "  [theme=dark] .colab-df-quickchart {\n",
              "      --bg-color: #3B4455;\n",
              "      --fill-color: #D2E3FC;\n",
              "      --hover-bg-color: #434B5C;\n",
              "      --hover-fill-color: #FFFFFF;\n",
              "      --disabled-bg-color: #3B4455;\n",
              "      --disabled-fill-color: #666;\n",
              "  }\n",
              "\n",
              "  .colab-df-quickchart {\n",
              "    background-color: var(--bg-color);\n",
              "    border: none;\n",
              "    border-radius: 50%;\n",
              "    cursor: pointer;\n",
              "    display: none;\n",
              "    fill: var(--fill-color);\n",
              "    height: 32px;\n",
              "    padding: 0;\n",
              "    width: 32px;\n",
              "  }\n",
              "\n",
              "  .colab-df-quickchart:hover {\n",
              "    background-color: var(--hover-bg-color);\n",
              "    box-shadow: 0 1px 2px rgba(60, 64, 67, 0.3), 0 1px 3px 1px rgba(60, 64, 67, 0.15);\n",
              "    fill: var(--button-hover-fill-color);\n",
              "  }\n",
              "\n",
              "  .colab-df-quickchart-complete:disabled,\n",
              "  .colab-df-quickchart-complete:disabled:hover {\n",
              "    background-color: var(--disabled-bg-color);\n",
              "    fill: var(--disabled-fill-color);\n",
              "    box-shadow: none;\n",
              "  }\n",
              "\n",
              "  .colab-df-spinner {\n",
              "    border: 2px solid var(--fill-color);\n",
              "    border-color: transparent;\n",
              "    border-bottom-color: var(--fill-color);\n",
              "    animation:\n",
              "      spin 1s steps(1) infinite;\n",
              "  }\n",
              "\n",
              "  @keyframes spin {\n",
              "    0% {\n",
              "      border-color: transparent;\n",
              "      border-bottom-color: var(--fill-color);\n",
              "      border-left-color: var(--fill-color);\n",
              "    }\n",
              "    20% {\n",
              "      border-color: transparent;\n",
              "      border-left-color: var(--fill-color);\n",
              "      border-top-color: var(--fill-color);\n",
              "    }\n",
              "    30% {\n",
              "      border-color: transparent;\n",
              "      border-left-color: var(--fill-color);\n",
              "      border-top-color: var(--fill-color);\n",
              "      border-right-color: var(--fill-color);\n",
              "    }\n",
              "    40% {\n",
              "      border-color: transparent;\n",
              "      border-right-color: var(--fill-color);\n",
              "      border-top-color: var(--fill-color);\n",
              "    }\n",
              "    60% {\n",
              "      border-color: transparent;\n",
              "      border-right-color: var(--fill-color);\n",
              "    }\n",
              "    80% {\n",
              "      border-color: transparent;\n",
              "      border-right-color: var(--fill-color);\n",
              "      border-bottom-color: var(--fill-color);\n",
              "    }\n",
              "    90% {\n",
              "      border-color: transparent;\n",
              "      border-bottom-color: var(--fill-color);\n",
              "    }\n",
              "  }\n",
              "</style>\n",
              "\n",
              "  <script>\n",
              "    async function quickchart(key) {\n",
              "      const quickchartButtonEl =\n",
              "        document.querySelector('#' + key + ' button');\n",
              "      quickchartButtonEl.disabled = true;  // To prevent multiple clicks.\n",
              "      quickchartButtonEl.classList.add('colab-df-spinner');\n",
              "      try {\n",
              "        const charts = await google.colab.kernel.invokeFunction(\n",
              "            'suggestCharts', [key], {});\n",
              "      } catch (error) {\n",
              "        console.error('Error during call to suggestCharts:', error);\n",
              "      }\n",
              "      quickchartButtonEl.classList.remove('colab-df-spinner');\n",
              "      quickchartButtonEl.classList.add('colab-df-quickchart-complete');\n",
              "    }\n",
              "    (() => {\n",
              "      let quickchartButtonEl =\n",
              "        document.querySelector('#df-5f4243d7-625a-4429-8200-5cc925d6ee47 button');\n",
              "      quickchartButtonEl.style.display =\n",
              "        google.colab.kernel.accessAllowed ? 'block' : 'none';\n",
              "    })();\n",
              "  </script>\n",
              "</div>\n",
              "    </div>\n",
              "  </div>\n"
            ],
            "application/vnd.google.colaboratory.intrinsic+json": {
              "type": "dataframe",
              "variable_name": "missing_data",
              "summary": "{\n  \"name\": \"missing_data\",\n  \"rows\": 10,\n  \"fields\": [\n    {\n      \"column\": \"Total\",\n      \"properties\": {\n        \"dtype\": \"number\",\n        \"std\": 2448,\n        \"min\": 0,\n        \"max\": 7193,\n        \"num_unique_values\": 7,\n        \"samples\": [\n          0,\n          92,\n          3923\n        ],\n        \"semantic_type\": \"\",\n        \"description\": \"\"\n      }\n    },\n    {\n      \"column\": \"Percent\",\n      \"properties\": {\n        \"dtype\": \"number\",\n        \"std\": 24.483200952671385,\n        \"min\": 0.0,\n        \"max\": 71.93,\n        \"num_unique_values\": 7,\n        \"samples\": [\n          0.0,\n          0.9199999999999999,\n          39.23\n        ],\n        \"semantic_type\": \"\",\n        \"description\": \"\"\n      }\n    }\n  ]\n}"
            }
          },
          "metadata": {},
          "execution_count": 23
        }
      ]
    },
    {
      "cell_type": "markdown",
      "source": [
        "We're giong to use numeric columns for analysis. I want drop all null records to do it clear. Also I'm going to drop 'Critically_rated_for' beacause there is 72 % of missing value despite on it's the str column."
      ],
      "metadata": {
        "id": "HZWrrXzGZrdF"
      }
    },
    {
      "cell_type": "code",
      "source": [
        "# dropping 'Critically_rated_for'\n",
        "companies_data.drop('Critically_rated_for', axis=1, inplace=True)\n",
        "\n",
        "# dropping 'na' rows\n",
        "companies_data.dropna(inplace=True)"
      ],
      "metadata": {
        "id": "vIlOfFLXaalm"
      },
      "execution_count": null,
      "outputs": []
    },
    {
      "cell_type": "code",
      "source": [
        "# Missing values check again\n",
        "companies_data.isnull().sum()"
      ],
      "metadata": {
        "id": "8GnHi9kzc7cG"
      },
      "execution_count": null,
      "outputs": []
    },
    {
      "cell_type": "code",
      "source": [
        "# Duplication Checks\n",
        "data_dedupped = companies_data.drop_duplicates()\n",
        "\n",
        "print(\"Number of records after dropping duplicates: {}\".format(data_dedupped.shape[0]))\n",
        "print(\"Number of records before dropping duplicates: {}\".format(companies_data.shape[0]))\n",
        "print(\"There are {} duplicates in the data.\".format(companies_data.shape[0] - data_dedupped.shape[0]))\n",
        "\n",
        "# craeating finall dataset\n",
        "finall_dataset = data_dedupped"
      ],
      "metadata": {
        "colab": {
          "base_uri": "https://localhost:8080/"
        },
        "id": "A8OvNho8dhHv",
        "outputId": "0e6292a9-38e9-40d6-efb2-f84b9b43028b"
      },
      "execution_count": null,
      "outputs": [
        {
          "output_type": "stream",
          "name": "stdout",
          "text": [
            "Number of records after dropping duplicates: 5607\n",
            "Number of records before dropping duplicates: 5931\n",
            "There are 324 duplicates in the data.\n"
          ]
        }
      ]
    },
    {
      "cell_type": "markdown",
      "source": [
        "# 5. Saving in another CSV"
      ],
      "metadata": {
        "id": "nuG0MoG5fNUE"
      }
    },
    {
      "cell_type": "code",
      "source": [
        "print(\"Number of records in clear dataset: {}.\".format(finall_dataset.shape[0]))\n",
        "print(\"Number of records in clear dataset: {}.\".format(finall_dataset.shape[1]))"
      ],
      "metadata": {
        "colab": {
          "base_uri": "https://localhost:8080/"
        },
        "id": "uU7vSzlffVCc",
        "outputId": "ad389cf9-1fcb-4cc9-a797-d4ded4ff23cc"
      },
      "execution_count": null,
      "outputs": [
        {
          "output_type": "stream",
          "name": "stdout",
          "text": [
            "Number of records in clear dataset: 5607.\n",
            "Number of records in clear dataset: 9.\n"
          ]
        }
      ]
    },
    {
      "cell_type": "code",
      "source": [
        "# finall_dataset.to_csv('/content/drive/MyDrive/DataFrames/Companies_project/Companies_clean.csv', index=False)"
      ],
      "metadata": {
        "id": "Fs9qh5A0hHGr"
      },
      "execution_count": null,
      "outputs": []
    }
  ]
}