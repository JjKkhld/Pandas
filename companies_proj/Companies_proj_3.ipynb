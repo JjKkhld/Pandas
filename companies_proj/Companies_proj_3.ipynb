{
  "nbformat": 4,
  "nbformat_minor": 0,
  "metadata": {
    "colab": {
      "provenance": [],
      "mount_file_id": "1W1j015L_yJRNvJSX6euBDoDjnloXwXoP",
      "authorship_tag": "ABX9TyOpxFp5XPCHoPtPGdi6K3Zc",
      "include_colab_link": true
    },
    "kernelspec": {
      "name": "python3",
      "display_name": "Python 3"
    },
    "language_info": {
      "name": "python"
    }
  },
  "cells": [
    {
      "cell_type": "markdown",
      "metadata": {
        "id": "view-in-github",
        "colab_type": "text"
      },
      "source": [
        "<a href=\"https://colab.research.google.com/github/JjKkhld/Pandas/blob/main/companies_proj/Companies_proj_3.ipynb\" target=\"_parent\"><img src=\"https://colab.research.google.com/assets/colab-badge.svg\" alt=\"Open In Colab\"/></a>"
      ]
    },
    {
      "cell_type": "code",
      "execution_count": 1,
      "metadata": {
        "id": "BxB3Cs6K9FAu"
      },
      "outputs": [],
      "source": [
        "import pandas as pd\n",
        "import matplotlib.pyplot as plt\n",
        "import numpy as np\n",
        "import seaborn as sns\n",
        "\n",
        "companies_data = pd.read_csv('/content/drive/MyDrive/DataFrames/Companies_project/Companies_clean.csv')\n",
        "companies_data_copy = companies_data\n",
        "\n",
        "plt.style.use('ggplot')"
      ]
    },
    {
      "cell_type": "markdown",
      "source": [
        "# Preparing the data"
      ],
      "metadata": {
        "id": "1vInYEF5o2zL"
      }
    },
    {
      "cell_type": "code",
      "source": [
        "# split rows\n",
        "companies_data_copy['Description'] = companies_data_copy['Description'].apply(lambda rows: str(rows).split(' | '))"
      ],
      "metadata": {
        "id": "nAjvXxoIEXy6"
      },
      "execution_count": 8,
      "outputs": []
    },
    {
      "cell_type": "code",
      "source": [
        "# crating dataframe with incomplete data/ cleaning the data\n",
        "\n",
        "incomplete_data = []\n",
        "for i in companies_data_copy['Description']:\n",
        "  if len(i) < 3:\n",
        "    incomplete_data.append(i)\n",
        "  elif 'Employees' not in i[1]:\n",
        "    incomplete_data.append(i)\n",
        "  elif not any(\"years old\" in s for s in i):\n",
        "    incomplete_data.append(i)\n",
        "  elif not any(\"more\" in elem for elem in i):\n",
        "      incomplete_data.append(i)\n",
        "\n",
        "data_with_incomplete_desc = companies_data_copy[companies_data_copy['Description'].isin(incomplete_data)].reset_index(drop=True)\n",
        "companies_data_copy = companies_data_copy[~companies_data_copy['Description'].isin(incomplete_data)].reset_index(drop=True)"
      ],
      "metadata": {
        "collapsed": true,
        "id": "3Y3V5jfwChVA"
      },
      "execution_count": 9,
      "outputs": []
    },
    {
      "cell_type": "code",
      "source": [
        "# finding out of the specialisation of each company\n",
        "specialises = []\n",
        "for item in companies_data_copy['Description']:\n",
        "  specialises.append(item[0])\n",
        "\n",
        "# finding out of the quantity of employees\n",
        "employees = []\n",
        "for item in companies_data_copy['Description']:\n",
        "  employees.append(item[1])\n",
        "\n",
        "# finding out of the age of employees\n",
        "age = []\n",
        "for item in companies_data_copy['Description']:\n",
        "  for elem in item:\n",
        "    if 'years old' in elem:\n",
        "      age.append(elem)\n",
        "\n",
        "# finding out of the region of employees\n",
        "region = []\n",
        "for item in companies_data_copy['Description']:\n",
        "  for elem in item:\n",
        "    if 'more' in elem:\n",
        "      region.append(elem.split(' +')[0])"
      ],
      "metadata": {
        "collapsed": true,
        "id": "eCpKBmyg_JJC"
      },
      "execution_count": 4,
      "outputs": []
    },
    {
      "cell_type": "code",
      "source": [
        "# adding new columns and deleting col 'Descr'\n",
        "companies_data_copy.insert(3, 'Specialisation', specialises, True)\n",
        "companies_data_copy.insert(4, 'Employees', employees, True)\n",
        "companies_data_copy.insert(5, 'Age', age, True)\n",
        "companies_data_copy.insert(6, 'Region', region, True)\n",
        "\n",
        "data = companies_data_copy.drop('Description', axis=1)"
      ],
      "metadata": {
        "collapsed": true,
        "id": "_CDLndWNAyCX"
      },
      "execution_count": 5,
      "outputs": []
    },
    {
      "cell_type": "code",
      "source": [
        "# making 'Age' numeric col\n",
        "data['Age'] = companies_data_copy['Age'] \\\n",
        "                             .apply(lambda row: row.replace('years old', '')) \\\n",
        "                             .apply(pd.to_numeric)"
      ],
      "metadata": {
        "collapsed": true,
        "id": "VxZfU8lYpLvG"
      },
      "execution_count": 6,
      "outputs": []
    },
    {
      "cell_type": "code",
      "source": [
        "# data.groupby(['Specialisation'], as_index=False) \\\n",
        "#   .agg({'Total_jobs_available' : 'sum'}) \\\n",
        "#   .sort_values(['Total_jobs_available', 'Specialisation'], ascending=[False, True])"
      ],
      "metadata": {
        "collapsed": true,
        "id": "-OQCgtwJuilh"
      },
      "execution_count": 7,
      "outputs": []
    }
  ]
}